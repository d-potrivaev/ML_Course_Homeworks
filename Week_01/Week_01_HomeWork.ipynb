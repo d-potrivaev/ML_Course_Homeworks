{
 "cells": [
  {
   "cell_type": "markdown",
   "id": "3164b8a5",
   "metadata": {},
   "source": [
    "# Question 1"
   ]
  },
  {
   "cell_type": "code",
   "execution_count": 133,
   "id": "d7b7fdb8",
   "metadata": {},
   "outputs": [],
   "source": [
    "nums = [1, 5, 3, 2, 8, 9]\n",
    "target = 10"
   ]
  },
  {
   "cell_type": "markdown",
   "id": "51c24043",
   "metadata": {},
   "source": [
    "#### Earlier implementation"
   ]
  },
  {
   "cell_type": "code",
   "execution_count": 131,
   "id": "91c9ca3e",
   "metadata": {},
   "outputs": [],
   "source": [
    "def twoSum(nums, target):\n",
    "    exit = False                          # EXIT var for checking do we need to stop search\n",
    "    for i, cur_num in enumerate(nums):    # loop for iterate throug NUMS array, I -keeps index number, CUR_NUM - current numeber we're processing\n",
    "        diff = target - cur_num           # DIFF - keeps the remainder after difference between TARGET and CUR_NUM\n",
    "\n",
    "        for k in range(len(nums)):        # second inner loop for iterate trough NUMS\n",
    "            if diff == nums[k]:           # checking for matching DIFF with any numbers in NUMS\n",
    "                print([i, k])             # print right indexes\n",
    "                exit = True               # we need to stop now\n",
    "                break                     # break inner loop\n",
    "        \n",
    "        if exit:                          # check do we need to exit from first loop\n",
    "            break"
   ]
  },
  {
   "cell_type": "markdown",
   "id": "03ae5fcb",
   "metadata": {},
   "source": [
    "#### Later implementation"
   ]
  },
  {
   "cell_type": "code",
   "execution_count": 137,
   "id": "94d29cbc",
   "metadata": {},
   "outputs": [],
   "source": [
    "def twoSum(nums, target):\n",
    "    tmp_dic = {}                              # create epty temporary dictionary for holding checked NUMS numbers\n",
    "\n",
    "    for indx, cur_num in enumerate(nums):     # loop for iterate throug NUMS array\n",
    "        diff = target - cur_num               # DIFF - keeps the remainder after difference between TARGET and CUR_NUM\n",
    "        \n",
    "        if diff in tmp_dic:                   # check if DIFF exists in our temporary dictionary TMP_DIC\n",
    "            print([tmp_dic[diff], indx])      # if so, we can print the right pair of indexes: first - index of number in TMP_DIC, second - index of current checking num\n",
    "            break                             # quit from loop if we fond a right pair\n",
    "\n",
    "        tmp_dic[cur_num] = indx               # and every loop step we add new number from NUMS to TMP_DIC"
   ]
  },
  {
   "cell_type": "code",
   "execution_count": 139,
   "id": "efab25ff",
   "metadata": {},
   "outputs": [
    {
     "name": "stdout",
     "output_type": "stream",
     "text": [
      "[3, 4]\n"
     ]
    }
   ],
   "source": [
    "twoSum(nums, target)"
   ]
  },
  {
   "cell_type": "markdown",
   "id": "0a163d75",
   "metadata": {},
   "source": [
    "### Time and space complexity:"
   ]
  },
  {
   "cell_type": "markdown",
   "id": "c6e772e6",
   "metadata": {},
   "source": [
    "In the earlier implementation, I think it's the complexity of O(n^2) because I have 2 loops one inside another, and each of them, I believe uses the complexity of O(n), so, it will be O(n) * O(n).\n",
    "But in later implementation, I suppose it's O(n) complexity because only one loop interaction using there and an additional temporary dictionary removes the need for the second inner loop.\n",
    "As for space complexity, unfortunately, I don't know :("
   ]
  },
  {
   "cell_type": "markdown",
   "id": "9dbdcf6d",
   "metadata": {},
   "source": [
    "# Question 2"
   ]
  },
  {
   "cell_type": "code",
   "execution_count": 4,
   "id": "39b8b433",
   "metadata": {},
   "outputs": [],
   "source": [
    "arr = [\"airlaw\", \"airflows\", \"airplanes\"]"
   ]
  },
  {
   "cell_type": "code",
   "execution_count": 244,
   "id": "c7a9aba3",
   "metadata": {},
   "outputs": [],
   "source": [
    "arr = [\"air\", \"air\", \"air\"]"
   ]
  },
  {
   "cell_type": "code",
   "execution_count": 250,
   "id": "70d1b486",
   "metadata": {},
   "outputs": [],
   "source": [
    "arr = [\"flower\",\"flow\",\"flight\"]"
   ]
  },
  {
   "cell_type": "code",
   "execution_count": 256,
   "id": "d1dabd63",
   "metadata": {},
   "outputs": [],
   "source": [
    "arr = [\"airlaw\", \"airflows\", \"airplanes\", \"flower\"]"
   ]
  },
  {
   "cell_type": "code",
   "execution_count": 5,
   "id": "ac6cf15e",
   "metadata": {},
   "outputs": [],
   "source": [
    "def findMostCommonPrefix(arr):\n",
    "    \n",
    "    out = \"\"                              # OUT var for checking do we need to quit from outer loop\n",
    "\n",
    "    for i in range(len(arr[0])):          # outer loop which runs over all letters of the first word in ARR\n",
    "        if not out:                       # if OUT still empty, do the following...\n",
    "            char = arr[0][i]              # assign CHAR var every letter of the first word in each step of the outer loop\n",
    "            for string in arr[1:]:        # inner loop goes over each words of ARR but ignoring the 1st one\n",
    "                if string[i] != char:     # check IF every letter of ARR words match the same letter in the 1st word\n",
    "                    out = arr[0][:i]      # if any letter doesn't match, than we found the righ prefix for all and put it to OUT var\n",
    "                    break                 # stop inner loop\n",
    "        else:                             # if OUT not empty\n",
    "            print(out)                    # print it with the right prefix\n",
    "            break                         # and quit the outer loop\n",
    "    \n",
    "    if not out:                           # IF OUT var still empty, even after the check, that means the 1st word\n",
    "        print(arr[0])                     # is the right prefix, so let's print it"
   ]
  },
  {
   "cell_type": "code",
   "execution_count": 6,
   "id": "671a8e26",
   "metadata": {},
   "outputs": [
    {
     "name": "stdout",
     "output_type": "stream",
     "text": [
      "air\n"
     ]
    }
   ],
   "source": [
    "findMostCommonPrefix(arr)"
   ]
  },
  {
   "cell_type": "markdown",
   "id": "6815b170",
   "metadata": {},
   "source": [
    "### Time and space complexity:"
   ]
  },
  {
   "cell_type": "markdown",
   "id": "e9a35efe",
   "metadata": {},
   "source": [
    "In this case it looks like it's the complexity of O(n^2) because I have 2 loops one inside another, and each of them, I believe uses the complexity of O(n), so, it will be O(n) * O(n) again.\n",
    "As for space complexity, unfortunately, I still don't know how to measure it :("
   ]
  },
  {
   "cell_type": "markdown",
   "id": "74600e3c",
   "metadata": {},
   "source": [
    "# Question 3"
   ]
  },
  {
   "cell_type": "code",
   "execution_count": 10,
   "id": "c96db64b",
   "metadata": {},
   "outputs": [],
   "source": [
    "nums = [-1, 0, 1, 2, -1, -4]"
   ]
  },
  {
   "cell_type": "code",
   "execution_count": 8,
   "id": "e3ad6956",
   "metadata": {},
   "outputs": [],
   "source": [
    "nums = [0, 3, -5, -2, 1, 4]"
   ]
  },
  {
   "cell_type": "code",
   "execution_count": 16,
   "id": "f3dbc6e8",
   "metadata": {},
   "outputs": [],
   "source": [
    "def threeSum(nums):\n",
    "    n = len(nums)                                        # N for array length\n",
    "    \n",
    "    for i in range(n):                                   # first loop...\n",
    "        for j in range(i + 1, n):                        # second loop and...\n",
    "            for k in range(j + 1, n):                    # third loop for iterating over all numbers\n",
    "                if nums[i] + nums[j] + nums[k] == 0:     # check if a sum of 3 iterating numbers is equal to zero\n",
    "                    print([i, j, k])                     # if so, print these numbers indeces\n",
    "    "
   ]
  },
  {
   "cell_type": "code",
   "execution_count": 17,
   "id": "6f7684fd",
   "metadata": {},
   "outputs": [
    {
     "name": "stdout",
     "output_type": "stream",
     "text": [
      "[0, 1, 2]\n",
      "[0, 3, 4]\n",
      "[1, 2, 4]\n"
     ]
    }
   ],
   "source": [
    "threeSum(nums)"
   ]
  },
  {
   "cell_type": "markdown",
   "id": "142c37ca",
   "metadata": {},
   "source": [
    "### Time and space complexity:"
   ]
  },
  {
   "cell_type": "markdown",
   "id": "383b4a0e",
   "metadata": {},
   "source": [
    "I think it's the complexity of O(n^3) because I have 3 loops one inside another, and each of them again, I believe uses the complexity of O(n), so, it will be O(n) * O(n) * O(n).\n",
    "As for space complexity, again, I don't know how to measure it."
   ]
  },
  {
   "cell_type": "markdown",
   "id": "b1f2557c",
   "metadata": {},
   "source": [
    "# Question 4"
   ]
  },
  {
   "cell_type": "markdown",
   "id": "f874fc6d",
   "metadata": {},
   "source": [
    "Unfortunately, I don't know how to solve this question... :(\n",
    "My Python and programming skills in general a bit weak to solve it."
   ]
  },
  {
   "cell_type": "code",
   "execution_count": null,
   "id": "e35ba579",
   "metadata": {},
   "outputs": [],
   "source": []
  }
 ],
 "metadata": {
  "kernelspec": {
   "display_name": "Python 3 (ipykernel)",
   "language": "python",
   "name": "python3"
  },
  "language_info": {
   "codemirror_mode": {
    "name": "ipython",
    "version": 3
   },
   "file_extension": ".py",
   "mimetype": "text/x-python",
   "name": "python",
   "nbconvert_exporter": "python",
   "pygments_lexer": "ipython3",
   "version": "3.12.3"
  }
 },
 "nbformat": 4,
 "nbformat_minor": 5
}
